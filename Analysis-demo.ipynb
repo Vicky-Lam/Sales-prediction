{
 "cells": [
  {
   "cell_type": "markdown",
   "metadata": {},
   "source": [
    "## Predict the sales of the 300th day and 500th day with the data given"
   ]
  },
  {
   "cell_type": "markdown",
   "metadata": {},
   "source": [
    "## Step 0: preparing the data:\n",
    "Read the data and check data types."
   ]
  },
  {
   "cell_type": "code",
   "execution_count": 1,
   "metadata": {},
   "outputs": [],
   "source": [
    "import numpy as np\n",
    "import pandas as pd\n",
    "import matplotlib.pyplot as plt\n",
    "import scipy.stats\n",
    "import sklearn"
   ]
  },
  {
   "cell_type": "code",
   "execution_count": 2,
   "metadata": {},
   "outputs": [
    {
     "data": {
      "text/html": [
       "<div>\n",
       "<style scoped>\n",
       "    .dataframe tbody tr th:only-of-type {\n",
       "        vertical-align: middle;\n",
       "    }\n",
       "\n",
       "    .dataframe tbody tr th {\n",
       "        vertical-align: top;\n",
       "    }\n",
       "\n",
       "    .dataframe thead th {\n",
       "        text-align: right;\n",
       "    }\n",
       "</style>\n",
       "<table border=\"1\" class=\"dataframe\">\n",
       "  <thead>\n",
       "    <tr style=\"text-align: right;\">\n",
       "      <th></th>\n",
       "      <th>Day</th>\n",
       "      <th>Sales (million)</th>\n",
       "    </tr>\n",
       "  </thead>\n",
       "  <tbody>\n",
       "    <tr>\n",
       "      <th>0</th>\n",
       "      <td>1</td>\n",
       "      <td>1.08</td>\n",
       "    </tr>\n",
       "    <tr>\n",
       "      <th>1</th>\n",
       "      <td>11</td>\n",
       "      <td>1.06</td>\n",
       "    </tr>\n",
       "    <tr>\n",
       "      <th>2</th>\n",
       "      <td>21</td>\n",
       "      <td>0.90</td>\n",
       "    </tr>\n",
       "    <tr>\n",
       "      <th>3</th>\n",
       "      <td>31</td>\n",
       "      <td>0.84</td>\n",
       "    </tr>\n",
       "    <tr>\n",
       "      <th>4</th>\n",
       "      <td>41</td>\n",
       "      <td>0.72</td>\n",
       "    </tr>\n",
       "    <tr>\n",
       "      <th>5</th>\n",
       "      <td>51</td>\n",
       "      <td>0.70</td>\n",
       "    </tr>\n",
       "    <tr>\n",
       "      <th>6</th>\n",
       "      <td>61</td>\n",
       "      <td>0.58</td>\n",
       "    </tr>\n",
       "    <tr>\n",
       "      <th>7</th>\n",
       "      <td>71</td>\n",
       "      <td>0.55</td>\n",
       "    </tr>\n",
       "    <tr>\n",
       "      <th>8</th>\n",
       "      <td>81</td>\n",
       "      <td>0.48</td>\n",
       "    </tr>\n",
       "    <tr>\n",
       "      <th>9</th>\n",
       "      <td>91</td>\n",
       "      <td>0.44</td>\n",
       "    </tr>\n",
       "    <tr>\n",
       "      <th>10</th>\n",
       "      <td>101</td>\n",
       "      <td>0.42</td>\n",
       "    </tr>\n",
       "    <tr>\n",
       "      <th>11</th>\n",
       "      <td>111</td>\n",
       "      <td>0.41</td>\n",
       "    </tr>\n",
       "    <tr>\n",
       "      <th>12</th>\n",
       "      <td>121</td>\n",
       "      <td>0.37</td>\n",
       "    </tr>\n",
       "    <tr>\n",
       "      <th>13</th>\n",
       "      <td>131</td>\n",
       "      <td>0.34</td>\n",
       "    </tr>\n",
       "    <tr>\n",
       "      <th>14</th>\n",
       "      <td>141</td>\n",
       "      <td>0.33</td>\n",
       "    </tr>\n",
       "    <tr>\n",
       "      <th>15</th>\n",
       "      <td>151</td>\n",
       "      <td>0.32</td>\n",
       "    </tr>\n",
       "    <tr>\n",
       "      <th>16</th>\n",
       "      <td>161</td>\n",
       "      <td>0.26</td>\n",
       "    </tr>\n",
       "    <tr>\n",
       "      <th>17</th>\n",
       "      <td>171</td>\n",
       "      <td>0.25</td>\n",
       "    </tr>\n",
       "    <tr>\n",
       "      <th>18</th>\n",
       "      <td>181</td>\n",
       "      <td>0.24</td>\n",
       "    </tr>\n",
       "    <tr>\n",
       "      <th>19</th>\n",
       "      <td>191</td>\n",
       "      <td>0.23</td>\n",
       "    </tr>\n",
       "    <tr>\n",
       "      <th>20</th>\n",
       "      <td>201</td>\n",
       "      <td>0.22</td>\n",
       "    </tr>\n",
       "    <tr>\n",
       "      <th>21</th>\n",
       "      <td>211</td>\n",
       "      <td>0.15</td>\n",
       "    </tr>\n",
       "    <tr>\n",
       "      <th>22</th>\n",
       "      <td>221</td>\n",
       "      <td>0.11</td>\n",
       "    </tr>\n",
       "    <tr>\n",
       "      <th>23</th>\n",
       "      <td>231</td>\n",
       "      <td>0.10</td>\n",
       "    </tr>\n",
       "  </tbody>\n",
       "</table>\n",
       "</div>"
      ],
      "text/plain": [
       "    Day  Sales (million)\n",
       "0     1             1.08\n",
       "1    11             1.06\n",
       "2    21             0.90\n",
       "3    31             0.84\n",
       "4    41             0.72\n",
       "5    51             0.70\n",
       "6    61             0.58\n",
       "7    71             0.55\n",
       "8    81             0.48\n",
       "9    91             0.44\n",
       "10  101             0.42\n",
       "11  111             0.41\n",
       "12  121             0.37\n",
       "13  131             0.34\n",
       "14  141             0.33\n",
       "15  151             0.32\n",
       "16  161             0.26\n",
       "17  171             0.25\n",
       "18  181             0.24\n",
       "19  191             0.23\n",
       "20  201             0.22\n",
       "21  211             0.15\n",
       "22  221             0.11\n",
       "23  231             0.10"
      ]
     },
     "execution_count": 2,
     "metadata": {},
     "output_type": "execute_result"
    }
   ],
   "source": [
    "df = pd.read_csv('Sales.csv')\n",
    "df"
   ]
  },
  {
   "cell_type": "code",
   "execution_count": 3,
   "metadata": {},
   "outputs": [
    {
     "data": {
      "text/plain": [
       "Day                  int64\n",
       "Sales (million)    float64\n",
       "dtype: object"
      ]
     },
     "execution_count": 3,
     "metadata": {},
     "output_type": "execute_result"
    }
   ],
   "source": [
    "df.dtypes"
   ]
  },
  {
   "cell_type": "markdown",
   "metadata": {},
   "source": [
    "## Step 1: Data exploration:\n",
    "1. There are only one dependent variable and one independent variable. A graph can be plotted to observe the relationship betweent the two variables. \n",
    "\n",
    "**The graph below implies that as the day increases, the sales decreases at a stable pace. The correlation coefficient below further veifies that the two variables has a very strong negative linear correlation (r = -0.953).**"
   ]
  },
  {
   "cell_type": "code",
   "execution_count": 4,
   "metadata": {},
   "outputs": [
    {
     "data": {
      "text/plain": [
       "Text(0.5, 1.0, 'Sales from Day 1 to Day 231')"
      ]
     },
     "execution_count": 4,
     "metadata": {},
     "output_type": "execute_result"
    },
    {
     "data": {
      "image/png": "[encoded data removed]",
      "text/plain": [
       "<Figure size 432x288 with 1 Axes>"
      ]
     },
     "metadata": {
      "needs_background": "light"
     },
     "output_type": "display_data"
    }
   ],
   "source": [
    "#Visualize the data\n",
    "x = df['Day']\n",
    "y = df['Sales (million)']\n",
    "plt.scatter(x, y,  color='lightsalmon', label='original data')\n",
    "plt.xlabel('Day')\n",
    "plt.ylabel('Sales (million)')\n",
    "plt.title(\"Sales from Day 1 to Day 231\", fontdict=None, loc='center', pad=None)"
   ]
  },
  {
   "cell_type": "code",
   "execution_count": 5,
   "metadata": {},
   "outputs": [
    {
     "name": "stdout",
     "output_type": "stream",
     "text": [
      "-0.9536139880385662\n"
     ]
    }
   ],
   "source": [
    "#Calculate the correlation coefficient using data\n",
    "r = scipy.stats.pearsonr(x, y)[0]\n",
    "print(r)"
   ]
  },
  {
   "cell_type": "markdown",
   "metadata": {},
   "source": [
    "## Step 2: Model training and prediction (part 1):\n",
    "1. Linear Regression model is chosen. Data provided is fit into the model and trained.\n",
    "2. The model then uses the \"new data\" (i.e. 300, 500) to make a prediction.\n",
    "\n",
    "**The graph suggests that the model fits the data quite well without overfitting or underfitting. Unfortuantely, the prediction of sales for the 300th day is -0.24 million and -1.02 million for 500th day.**"
   ]
  },
  {
   "cell_type": "code",
   "execution_count": 6,
   "metadata": {},
   "outputs": [],
   "source": [
    "from sklearn.linear_model import LinearRegression\n",
    "\n",
    "#Because the dataset is very small and the model is not going to be deployed to deal with larger dataset, it's ok to not split the data into training set and testing set)\n",
    "x_data = df.drop('Sales (million)', axis=1)\n",
    "y_data = df.drop('Day', axis=1)\n",
    "\n",
    "lre=LinearRegression()\n",
    "lre.fit(x_data, y_data)\n",
    "\n",
    "#If the dataset is large, we can split the data (see below) and later conduct a cross-validation to validate the model\n",
    "from sklearn.model_selection import train_test_split\n",
    "x_train, x_test, y_train, y_test = train_test_split(x_data, y_data, test_size=0.10, random_state=0) \n"
   ]
  },
  {
   "cell_type": "code",
   "execution_count": 7,
   "metadata": {},
   "outputs": [
    {
     "data": {
      "image/png": "[encoded data removed]",
      "text/plain": [
       "<Figure size 432x288 with 1 Axes>"
      ]
     },
     "metadata": {
      "needs_background": "light"
     },
     "output_type": "display_data"
    }
   ],
   "source": [
    "#Visualize the data and the linear regression function\n",
    "plt.scatter(x_data, y_data,  color='lightsalmon', label='original data')\n",
    "plt.plot(x_data, lre.predict(x_data), color='red', linewidth=3, label='prediction model')\n",
    "plt.xlabel('Day')\n",
    "plt.ylabel('Sales (million)')\n",
    "plt.title(\"Comparison of original data and prediction model\", fontdict=None, loc='center', pad=None)\n",
    "plt.legend()\n",
    "plt.show()"
   ]
  },
  {
   "cell_type": "code",
   "execution_count": 8,
   "metadata": {},
   "outputs": [
    {
     "name": "stdout",
     "output_type": "stream",
     "text": [
      "[-0.2479     -1.02007391]\n"
     ]
    }
   ],
   "source": [
    "#use the \"new data\" set to predict the data\n",
    "x_pred = pd.DataFrame(np.array([[300],[500]]),columns = x_data.columns)\n",
    "y_pred = lre.predict(x_pred).reshape(-1,)\n",
    "print(y_pred)"
   ]
  },
  {
   "cell_type": "code",
   "execution_count": 9,
   "metadata": {},
   "outputs": [
    {
     "data": {
      "text/html": [
       "<div>\n",
       "<style scoped>\n",
       "    .dataframe tbody tr th:only-of-type {\n",
       "        vertical-align: middle;\n",
       "    }\n",
       "\n",
       "    .dataframe tbody tr th {\n",
       "        vertical-align: top;\n",
       "    }\n",
       "\n",
       "    .dataframe thead th {\n",
       "        text-align: right;\n",
       "    }\n",
       "</style>\n",
       "<table border=\"1\" class=\"dataframe\">\n",
       "  <thead>\n",
       "    <tr style=\"text-align: right;\">\n",
       "      <th></th>\n",
       "      <th>Day</th>\n",
       "      <th>Sales (million)</th>\n",
       "    </tr>\n",
       "  </thead>\n",
       "  <tbody>\n",
       "    <tr>\n",
       "      <th>0</th>\n",
       "      <td>300</td>\n",
       "      <td>-0.247900</td>\n",
       "    </tr>\n",
       "    <tr>\n",
       "      <th>1</th>\n",
       "      <td>500</td>\n",
       "      <td>-1.020074</td>\n",
       "    </tr>\n",
       "  </tbody>\n",
       "</table>\n",
       "</div>"
      ],
      "text/plain": [
       "   Day  Sales (million)\n",
       "0  300        -0.247900\n",
       "1  500        -1.020074"
      ]
     },
     "execution_count": 9,
     "metadata": {},
     "output_type": "execute_result"
    }
   ],
   "source": [
    "#put the predicted data together into a new dataframe\n",
    "pred_data = {'Day': [300, 500], 'Sales (million)': y_pred} \n",
    "pred_df = pd.DataFrame(data = pred_data)\n",
    "pred_df"
   ]
  },
  {
   "cell_type": "code",
   "execution_count": 10,
   "metadata": {},
   "outputs": [
    {
     "data": {
      "image/png": "[encoded data removed]",
      "text/plain": [
       "<Figure size 864x432 with 1 Axes>"
      ]
     },
     "metadata": {
      "needs_background": "light"
     },
     "output_type": "display_data"
    }
   ],
   "source": [
    "#put the predicted data into the graph\n",
    "plt.figure(figsize=(12,6))\n",
    "plt.scatter(pred_df['Day'], pred_df['Sales (million)'], color='red', label='predicted data')\n",
    "plt.scatter(x_data, y_data,  color='silver', label='original data')\n",
    "plt.xlabel('Day')\n",
    "plt.ylabel('Sales (million)')\n",
    "plt.axhline(y=0, color='grey', linestyle='-')\n",
    "plt.title(\"Predicting sales for 300th and 500th day\", fontdict=None, loc='center', pad=None)\n",
    "plt.xticks([i for i in range(0,600,50)])\n",
    "plt.legend()\n",
    "plt.show()"
   ]
  },
  {
   "cell_type": "markdown",
   "metadata": {},
   "source": [
    "## Step 2: Model training and prediction (part 2):\n",
    "1. The annalysis using a linear regression model described above gives us a reasonable result, but trying a more sophisticated model can further help us decide if the model chosen above is the most suitable. \n",
    "\n",
    "2. We can try raise the order of linear regression model to see if it results in underfitting or overfitting. \n",
    "\n",
    "3. The power for the x variable is raised to 2.\n",
    "\n",
    "**The result of the data visulization demonstrates that the polinomial model overfits the data, so the simple linear regression used above suffices for this data set.**"
   ]
  },
  {
   "cell_type": "code",
   "execution_count": 11,
   "metadata": {},
   "outputs": [],
   "source": [
    "from sklearn.preprocessing import PolynomialFeatures"
   ]
  },
  {
   "cell_type": "code",
   "execution_count": 12,
   "metadata": {},
   "outputs": [
    {
     "data": {
      "text/plain": [
       "LinearRegression()"
      ]
     },
     "execution_count": 12,
     "metadata": {},
     "output_type": "execute_result"
    }
   ],
   "source": [
    "#Transform the data for polynomial linear regression\n",
    "pr = PolynomialFeatures(degree=2)\n",
    "x_data_pr = pr.fit_transform(x_data)\n",
    "\n",
    "#Use LinearRegression to train the model\n",
    "poly = LinearRegression()\n",
    "poly.fit(x_data_pr, y_data)"
   ]
  },
  {
   "cell_type": "code",
   "execution_count": 13,
   "metadata": {},
   "outputs": [
    {
     "data": {
      "text/plain": [
       "<matplotlib.legend.Legend at 0x1ca8e71d6d0>"
      ]
     },
     "execution_count": 13,
     "metadata": {},
     "output_type": "execute_result"
    },
    {
     "data": {
      "image/png": "[encoded data removed]",
      "text/plain": [
       "<Figure size 432x288 with 1 Axes>"
      ]
     },
     "metadata": {
      "needs_background": "light"
     },
     "output_type": "display_data"
    }
   ],
   "source": [
    "#Visualize the original data and predicted data\n",
    "plt.scatter(x_data, y_data, color='lightsalmon', label='original data')\n",
    "plt.plot(x_data, poly.predict(x_data_pr), color='red', linewidth=3, label='predicted data')\n",
    "plt.xlabel('Day')\n",
    "plt.ylabel('Sales (million)')\n",
    "plt.title(\"Comparison of original data and predicted data\", fontdict=None, loc='center', pad=None)\n",
    "plt.legend()"
   ]
  },
  {
   "cell_type": "markdown",
   "metadata": {},
   "source": [
    "## Step 3: Reporting the analysis"
   ]
  },
  {
   "cell_type": "code",
   "execution_count": 37,
   "metadata": {},
   "outputs": [],
   "source": [
    "#refer to the PDF report"
   ]
  }
 ],
 "metadata": {
  "kernelspec": {
   "display_name": "Python 3",
   "language": "python",
   "name": "python3"
  },
  "language_info": {
   "codemirror_mode": {
    "name": "ipython",
    "version": 3
   },
   "file_extension": ".py",
   "mimetype": "text/x-python",
   "name": "python",
   "nbconvert_exporter": "python",
   "pygments_lexer": "ipython3",
   "version": "3.9.0"
  }
 },
 "nbformat": 4,
 "nbformat_minor": 4
}
